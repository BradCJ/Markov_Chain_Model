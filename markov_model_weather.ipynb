{
 "cells": [
  {
   "cell_type": "code",
   "execution_count": 2,
   "metadata": {},
   "outputs": [],
   "source": [
    "import numpy as np\n",
    "import matplotlib.pyplot as plt"
   ]
  },
  {
   "cell_type": "code",
   "execution_count": 3,
   "metadata": {},
   "outputs": [],
   "source": [
    "# input params\n",
    "all_possible_state = [0,1] # 0 = Sunny, 1 = Rainy\n",
    "\n",
    "# actual transition prob. matrix and initial prob. vector\n",
    "def trans_init_table():\n",
    "    \"\"\"\n",
    "        row | col\n",
    "        Xn | Xn+1\n",
    "        i | j\n",
    "        t-1 | t\n",
    "    \"\"\"\n",
    "    act_trans_prob = np.array([[0.9,0.1],[0.1,0.9]])\n",
    "    \n",
    "    \"\"\"\n",
    "        row\n",
    "        t=0\n",
    "        0 : P(Sunny t=0)\n",
    "        1 : P(Rainy t=0)\n",
    "    \"\"\"\n",
    "    act_init_prob = np.array([0.5,0.5])\n",
    "\n",
    "    return act_trans_prob,act_init_prob\n",
    "\n",
    "# sequence generator\n",
    "def sequence_generator(act_trans_prob,act_init_prob,num_time_steps,num_sequences):\n",
    "\n",
    "    all_sequences = []\n",
    "\n",
    "    for i in range(0,num_sequences):\n",
    "        each_sequence = []\n",
    "\n",
    "        for j in range(0,num_time_steps):\n",
    "            random_num = np.random.uniform()\n",
    "\n",
    "            # if 1st state\n",
    "            if j == 0:\n",
    "                if random_num < act_init_prob[0]:\n",
    "                    each_sequence.append(0) # 0 = Sunny\n",
    "                else:\n",
    "                    each_sequence.append(1) # 1 = Rainy\n",
    "            # if not 1st state\n",
    "            else:\n",
    "                current_state = each_sequence[j-1]\n",
    "                \n",
    "                if random_num < np.amin(act_trans_prob[current_state,:]):\n",
    "                    each_sequence.append(np.argmin(act_trans_prob[current_state,:]))\n",
    "                else:\n",
    "                    each_sequence.append(np.argmax(act_trans_prob[current_state,:]))\n",
    "        \n",
    "        all_sequences.append(each_sequence)\n",
    "\n",
    "    return all_sequences\n",
    "\n",
    "# estimated transition prob. matrix\n",
    "def transition_prob_estimator(all_sequences):\n",
    "    est_trans_prob = np.zeros((2,2))\n",
    "\n",
    "    for row in range(est_trans_prob.shape[0]): # previose state\n",
    "        for col in range(est_trans_prob.shape[1]): # future state\n",
    "            target_transition = [row,col]\n",
    "\n",
    "            # converting 2 time steps for each seq\n",
    "            for each_step in range(1,len(all_sequences)):\n",
    "                this_transition = np.array(all_sequences)[:,[each_step-1,each_step]].tolist()\n",
    "\n",
    "                for each_seq in this_transition:\n",
    "                    if each_seq == target_transition:\n",
    "                        est_trans_prob[row,col] += 1\n",
    "            \n",
    "            # sum up to 1\n",
    "            est_trans_prob[row,col] /= len(np.argwhere(np.array(all_sequences)[:,:-1] == row))\n",
    "    \n",
    "    return est_trans_prob\n",
    "\n",
    "# estimated initial prob. vector\n",
    "def initial_prob_estimator(all_sequences):\n",
    "    init_seq = np.array(all_sequences)[:,0]\n",
    "    est_init_prob = np.zeros((2))\n",
    "\n",
    "    for i in range(len(all_possible_state)):\n",
    "        est_init_prob[i] = len(np.argwhere(init_seq == i))\n",
    "\n",
    "    # sum up to 1\n",
    "    est_init_prob /= est_init_prob.sum()\n",
    "    \n",
    "    return est_init_prob\n",
    "\n",
    "# predictive function\n",
    "def prediction(est_trans_prob, train_seq):\n",
    "    next_state_list = []\n",
    "    for each_seq in range(num_sequences):\n",
    "        current_state = train_seq[each_seq][-1]\n",
    "\n",
    "        next_state = np.argmax(est_trans_prob[current_state,:])\n",
    "        next_state_list.append(next_state)\n",
    "    return next_state_list"
   ]
  },
  {
   "cell_type": "code",
   "execution_count": 4,
   "metadata": {},
   "outputs": [
    {
     "data": {
      "image/png": "[encoded data removed]",
      "text/plain": [
       "<Figure size 432x288 with 1 Axes>"
      ]
     },
     "metadata": {
      "needs_background": "light"
     },
     "output_type": "display_data"
    }
   ],
   "source": [
    "# test: table : SSE\n",
    "# input params\n",
    "num_time_steps = 100\n",
    "act_trans_prob, act_init_prob = trans_init_table()\n",
    "\n",
    "sse_list = []\n",
    "for num_sequences in range(1,100):\n",
    "\n",
    "    # generate data\n",
    "    all_sequences = sequence_generator(act_trans_prob, act_init_prob, num_time_steps, num_sequences)\n",
    "    \n",
    "    # est trans prob table\n",
    "    est_trans_prob = transition_prob_estimator(all_sequences)\n",
    "\n",
    "    # measure perform\n",
    "    SSE = ((act_trans_prob - est_trans_prob)**2).sum()\n",
    "    sse_list.append(SSE)\n",
    "\n",
    "# visualise\n",
    "plt.figure()\n",
    "plt.plot(sse_list)\n",
    "plt.show()"
   ]
  },
  {
   "cell_type": "code",
   "execution_count": 5,
   "metadata": {},
   "outputs": [
    {
     "name": "stdout",
     "output_type": "stream",
     "text": [
      "%acc :  90\n"
     ]
    }
   ],
   "source": [
    "# test: table : accuracy\n",
    "# input params\n",
    "num_time_steps = 100\n",
    "num_sequences = 100\n",
    "act_trans_prob, act_init_prob = trans_init_table()\n",
    "all_sequences = sequence_generator(act_trans_prob, act_init_prob, num_time_steps, num_sequences)\n",
    "\n",
    "# train test split\n",
    "train_seq = np.array(all_sequences)[:,:-1].tolist()\n",
    "test_seq = np.array(all_sequences)[:,-1]\n",
    "\n",
    "# estimation\n",
    "est_trans_prob = transition_prob_estimator(all_sequences)\n",
    "\n",
    "# predict\n",
    "pred_seq = prediction(est_trans_prob, train_seq)\n",
    "\n",
    "# accuracy\n",
    "print('%acc : ',round((pred_seq == test_seq).sum()/len(test_seq)*100))"
   ]
  }
 ],
 "metadata": {
  "interpreter": {
   "hash": "344529850839cbb0f85048434875e57fdbab656742d27d932484998f6e5d573f"
  },
  "kernelspec": {
   "display_name": "Python 3.9.7 ('base')",
   "language": "python",
   "name": "python3"
  },
  "language_info": {
   "codemirror_mode": {
    "name": "ipython",
    "version": 3
   },
   "file_extension": ".py",
   "mimetype": "text/x-python",
   "name": "python",
   "nbconvert_exporter": "python",
   "pygments_lexer": "ipython3",
   "version": "3.9.7"
  },
  "orig_nbformat": 4
 },
 "nbformat": 4,
 "nbformat_minor": 2
}
