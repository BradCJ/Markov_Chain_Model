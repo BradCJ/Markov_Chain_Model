{
 "cells": [
  {
   "cell_type": "code",
   "execution_count": 1,
   "metadata": {},
   "outputs": [],
   "source": [
    "import pandas as pd\n",
    "import numpy as np\n",
    "# import matplotlib.pyplot as plt\n",
    "# import seaborn as sns"
   ]
  },
  {
   "cell_type": "markdown",
   "metadata": {},
   "source": [
    "Load Data"
   ]
  },
  {
   "cell_type": "code",
   "execution_count": 2,
   "metadata": {},
   "outputs": [
    {
     "data": {
      "text/html": [
       "<div>\n",
       "<style scoped>\n",
       "    .dataframe tbody tr th:only-of-type {\n",
       "        vertical-align: middle;\n",
       "    }\n",
       "\n",
       "    .dataframe tbody tr th {\n",
       "        vertical-align: top;\n",
       "    }\n",
       "\n",
       "    .dataframe thead th {\n",
       "        text-align: right;\n",
       "    }\n",
       "</style>\n",
       "<table border=\"1\" class=\"dataframe\">\n",
       "  <thead>\n",
       "    <tr style=\"text-align: right;\">\n",
       "      <th></th>\n",
       "      <th>CUSTOMER_ID</th>\n",
       "      <th>SUBSCRIBER</th>\n",
       "      <th>PRODUCT</th>\n",
       "      <th>PACKAGE_01</th>\n",
       "      <th>PACKAGE_02</th>\n",
       "      <th>PACKAGE_03</th>\n",
       "      <th>PACKAGE_04</th>\n",
       "      <th>PACKAGE_05</th>\n",
       "      <th>PACKAGE_06</th>\n",
       "    </tr>\n",
       "  </thead>\n",
       "  <tbody>\n",
       "    <tr>\n",
       "      <th>0</th>\n",
       "      <td>1</td>\n",
       "      <td>11</td>\n",
       "      <td>T</td>\n",
       "      <td>599</td>\n",
       "      <td>699</td>\n",
       "      <td>799</td>\n",
       "      <td>899</td>\n",
       "      <td>999</td>\n",
       "      <td>599</td>\n",
       "    </tr>\n",
       "    <tr>\n",
       "      <th>1</th>\n",
       "      <td>2</td>\n",
       "      <td>22</td>\n",
       "      <td>T</td>\n",
       "      <td>599</td>\n",
       "      <td>699</td>\n",
       "      <td>799</td>\n",
       "      <td>899</td>\n",
       "      <td>999</td>\n",
       "      <td>1099</td>\n",
       "    </tr>\n",
       "    <tr>\n",
       "      <th>2</th>\n",
       "      <td>3</td>\n",
       "      <td>33</td>\n",
       "      <td>T</td>\n",
       "      <td>599</td>\n",
       "      <td>699</td>\n",
       "      <td>799</td>\n",
       "      <td>899</td>\n",
       "      <td>999</td>\n",
       "      <td>1099</td>\n",
       "    </tr>\n",
       "    <tr>\n",
       "      <th>3</th>\n",
       "      <td>4</td>\n",
       "      <td>44</td>\n",
       "      <td>T</td>\n",
       "      <td>599</td>\n",
       "      <td>699</td>\n",
       "      <td>799</td>\n",
       "      <td>899</td>\n",
       "      <td>999</td>\n",
       "      <td>1099</td>\n",
       "    </tr>\n",
       "    <tr>\n",
       "      <th>4</th>\n",
       "      <td>5</td>\n",
       "      <td>55</td>\n",
       "      <td>T</td>\n",
       "      <td>599</td>\n",
       "      <td>699</td>\n",
       "      <td>799</td>\n",
       "      <td>899</td>\n",
       "      <td>999</td>\n",
       "      <td>1099</td>\n",
       "    </tr>\n",
       "  </tbody>\n",
       "</table>\n",
       "</div>"
      ],
      "text/plain": [
       "   CUSTOMER_ID  SUBSCRIBER PRODUCT  PACKAGE_01  PACKAGE_02  PACKAGE_03  \\\n",
       "0            1          11       T         599         699         799   \n",
       "1            2          22       T         599         699         799   \n",
       "2            3          33       T         599         699         799   \n",
       "3            4          44       T         599         699         799   \n",
       "4            5          55       T         599         699         799   \n",
       "\n",
       "   PACKAGE_04  PACKAGE_05  PACKAGE_06  \n",
       "0         899         999         599  \n",
       "1         899         999        1099  \n",
       "2         899         999        1099  \n",
       "3         899         999        1099  \n",
       "4         899         999        1099  "
      ]
     },
     "execution_count": 2,
     "metadata": {},
     "output_type": "execute_result"
    }
   ],
   "source": [
    "raw_df = pd.read_csv(r'C:\\Users\\chaiyaphop.jam\\Documents\\Works\\Markov_Chains\\TEST_T_DATA_SET_599.csv')\n",
    "raw_df.head()"
   ]
  },
  {
   "cell_type": "markdown",
   "metadata": {},
   "source": [
    "Select Features"
   ]
  },
  {
   "cell_type": "code",
   "execution_count": 3,
   "metadata": {},
   "outputs": [
    {
     "data": {
      "text/html": [
       "<div>\n",
       "<style scoped>\n",
       "    .dataframe tbody tr th:only-of-type {\n",
       "        vertical-align: middle;\n",
       "    }\n",
       "\n",
       "    .dataframe tbody tr th {\n",
       "        vertical-align: top;\n",
       "    }\n",
       "\n",
       "    .dataframe thead th {\n",
       "        text-align: right;\n",
       "    }\n",
       "</style>\n",
       "<table border=\"1\" class=\"dataframe\">\n",
       "  <thead>\n",
       "    <tr style=\"text-align: right;\">\n",
       "      <th></th>\n",
       "      <th>PACKAGE_01</th>\n",
       "      <th>PACKAGE_02</th>\n",
       "      <th>PACKAGE_03</th>\n",
       "      <th>PACKAGE_04</th>\n",
       "      <th>PACKAGE_05</th>\n",
       "      <th>PACKAGE_06</th>\n",
       "    </tr>\n",
       "  </thead>\n",
       "  <tbody>\n",
       "    <tr>\n",
       "      <th>count</th>\n",
       "      <td>3950.0</td>\n",
       "      <td>3950.00</td>\n",
       "      <td>3950.00</td>\n",
       "      <td>3950.00</td>\n",
       "      <td>3950.00</td>\n",
       "      <td>3950.00</td>\n",
       "    </tr>\n",
       "    <tr>\n",
       "      <th>mean</th>\n",
       "      <td>599.0</td>\n",
       "      <td>749.03</td>\n",
       "      <td>849.03</td>\n",
       "      <td>949.03</td>\n",
       "      <td>1049.03</td>\n",
       "      <td>1048.75</td>\n",
       "    </tr>\n",
       "    <tr>\n",
       "      <th>std</th>\n",
       "      <td>0.0</td>\n",
       "      <td>50.01</td>\n",
       "      <td>50.01</td>\n",
       "      <td>50.01</td>\n",
       "      <td>50.01</td>\n",
       "      <td>51.01</td>\n",
       "    </tr>\n",
       "    <tr>\n",
       "      <th>min</th>\n",
       "      <td>599.0</td>\n",
       "      <td>699.00</td>\n",
       "      <td>799.00</td>\n",
       "      <td>899.00</td>\n",
       "      <td>999.00</td>\n",
       "      <td>599.00</td>\n",
       "    </tr>\n",
       "    <tr>\n",
       "      <th>25%</th>\n",
       "      <td>599.0</td>\n",
       "      <td>699.00</td>\n",
       "      <td>799.00</td>\n",
       "      <td>899.00</td>\n",
       "      <td>999.00</td>\n",
       "      <td>999.00</td>\n",
       "    </tr>\n",
       "    <tr>\n",
       "      <th>50%</th>\n",
       "      <td>599.0</td>\n",
       "      <td>799.00</td>\n",
       "      <td>899.00</td>\n",
       "      <td>999.00</td>\n",
       "      <td>1099.00</td>\n",
       "      <td>999.00</td>\n",
       "    </tr>\n",
       "    <tr>\n",
       "      <th>75%</th>\n",
       "      <td>599.0</td>\n",
       "      <td>799.00</td>\n",
       "      <td>899.00</td>\n",
       "      <td>999.00</td>\n",
       "      <td>1099.00</td>\n",
       "      <td>1099.00</td>\n",
       "    </tr>\n",
       "    <tr>\n",
       "      <th>max</th>\n",
       "      <td>599.0</td>\n",
       "      <td>799.00</td>\n",
       "      <td>899.00</td>\n",
       "      <td>999.00</td>\n",
       "      <td>1099.00</td>\n",
       "      <td>1099.00</td>\n",
       "    </tr>\n",
       "  </tbody>\n",
       "</table>\n",
       "</div>"
      ],
      "text/plain": [
       "       PACKAGE_01  PACKAGE_02  PACKAGE_03  PACKAGE_04  PACKAGE_05  PACKAGE_06\n",
       "count      3950.0     3950.00     3950.00     3950.00     3950.00     3950.00\n",
       "mean        599.0      749.03      849.03      949.03     1049.03     1048.75\n",
       "std           0.0       50.01       50.01       50.01       50.01       51.01\n",
       "min         599.0      699.00      799.00      899.00      999.00      599.00\n",
       "25%         599.0      699.00      799.00      899.00      999.00      999.00\n",
       "50%         599.0      799.00      899.00      999.00     1099.00      999.00\n",
       "75%         599.0      799.00      899.00      999.00     1099.00     1099.00\n",
       "max         599.0      799.00      899.00      999.00     1099.00     1099.00"
      ]
     },
     "execution_count": 3,
     "metadata": {},
     "output_type": "execute_result"
    }
   ],
   "source": [
    "df = raw_df[['PACKAGE_01','PACKAGE_02','PACKAGE_03','PACKAGE_04','PACKAGE_05','PACKAGE_06']]\n",
    "df.describe().round(2)"
   ]
  },
  {
   "cell_type": "markdown",
   "metadata": {},
   "source": [
    "Remove Outlier"
   ]
  },
  {
   "cell_type": "code",
   "execution_count": 4,
   "metadata": {},
   "outputs": [],
   "source": [
    "# outlier_p1 = df.PACKAGE_01 > df.PACKAGE_01.quantile(1)\n",
    "# outlier_p2 = df.PACKAGE_02 > df.PACKAGE_02.quantile(1)\n",
    "# outlier_p3 = df.PACKAGE_03 > df.PACKAGE_03.quantile(1)\n",
    "# outlier_p4 = df.PACKAGE_04 > df.PACKAGE_04.quantile(1)\n",
    "# outlier_p5 = df.PACKAGE_05 > df.PACKAGE_05.quantile(1)\n",
    "# outlier_p6 = df.PACKAGE_06 > df.PACKAGE_06.quantile(1)\n",
    "# outlier_p1 = df.PACKAGE_01 > df.PACKAGE_01.quantile(1)\n",
    "# outlier_p2 = df.PACKAGE_02 > df.PACKAGE_02.quantile(1)\n",
    "# outlier_p3 = df.PACKAGE_03 > df.PACKAGE_03.quantile(1)\n",
    "# outlier_p4 = df.PACKAGE_04 > df.PACKAGE_04.quantile(1)\n",
    "# outlier_p5 = df.PACKAGE_05 > df.PACKAGE_05.quantile(1)\n",
    "# outlier_p6 = df.PACKAGE_06 > df.PACKAGE_06.quantile(1)\n",
    "\n",
    "# flag_outlier = outlier_p1 | outlier_p2 | outlier_p3 | outlier_p4 | outlier_p5 | outlier_p6\n",
    "\n",
    "# df_clean = df.loc[~flag_outlier]\n",
    "# print(df_clean.describe().round(2))\n",
    "# print(df_clean.corr())"
   ]
  },
  {
   "cell_type": "markdown",
   "metadata": {},
   "source": [
    "Scatter Plot"
   ]
  },
  {
   "cell_type": "code",
   "execution_count": 5,
   "metadata": {},
   "outputs": [],
   "source": [
    "# sns.pairplot(df_clean, diag_kind = 'kde')"
   ]
  },
  {
   "cell_type": "markdown",
   "metadata": {},
   "source": [
    "Sample Data"
   ]
  },
  {
   "cell_type": "code",
   "execution_count": 6,
   "metadata": {},
   "outputs": [
    {
     "data": {
      "text/plain": [
       "array([[ 599,  699,  799,  899,  999,  599],\n",
       "       [ 599,  699,  799,  899,  999, 1099],\n",
       "       [ 599,  699,  799,  899,  999, 1099],\n",
       "       [ 599,  699,  799,  899,  999, 1099],\n",
       "       [ 599,  699,  799,  899,  999, 1099]], dtype=int64)"
      ]
     },
     "execution_count": 6,
     "metadata": {},
     "output_type": "execute_result"
    }
   ],
   "source": [
    "df_array = np.array(df)\n",
    "df_array[:5]"
   ]
  },
  {
   "cell_type": "markdown",
   "metadata": {},
   "source": [
    "Possible State and Encode Possible State"
   ]
  },
  {
   "cell_type": "code",
   "execution_count": 7,
   "metadata": {},
   "outputs": [
    {
     "name": "stdout",
     "output_type": "stream",
     "text": [
      "Possible State is [599, 699, 799, 899, 999, 1099]\n",
      "Encoded Possible State is [0, 1, 2, 3, 4, 5]\n",
      "Number of Possible State is 6\n"
     ]
    }
   ],
   "source": [
    "all_state = []\n",
    "for row in df_array:\n",
    "    for col in row:\n",
    "        all_state.append(col)\n",
    "\n",
    "possible_state = np.sort(np.unique(all_state)).tolist()\n",
    "print(f'Possible State is {possible_state}')\n",
    "\n",
    "encoded_possible_state = []\n",
    "for state in possible_state:\n",
    "    for i in range(len(possible_state)):\n",
    "        if possible_state.index(state) == i:\n",
    "            encoded_possible_state.append(i)\n",
    "print(f'Encoded Possible State is {encoded_possible_state}')\n",
    "\n",
    "n_possible_state = 0\n",
    "for i in encoded_possible_state:\n",
    "    n_possible_state += 1\n",
    "print(f'Number of Possible State is {n_possible_state}')"
   ]
  },
  {
   "cell_type": "markdown",
   "metadata": {},
   "source": [
    "Encode Features"
   ]
  },
  {
   "cell_type": "code",
   "execution_count": 8,
   "metadata": {},
   "outputs": [
    {
     "data": {
      "text/plain": [
       "array([[0, 1, 2, 3, 4, 0],\n",
       "       [0, 1, 2, 3, 4, 5],\n",
       "       [0, 1, 2, 3, 4, 5],\n",
       "       [0, 1, 2, 3, 4, 5],\n",
       "       [0, 1, 2, 3, 4, 5]], dtype=int64)"
      ]
     },
     "execution_count": 8,
     "metadata": {},
     "output_type": "execute_result"
    }
   ],
   "source": [
    "for i in possible_state:\n",
    "    np.place(df_array, df_array == i, [possible_state.index(i)])\n",
    "df_train = df_array\n",
    "df_train[:5]"
   ]
  },
  {
   "cell_type": "markdown",
   "metadata": {},
   "source": [
    "Markov Chain Model"
   ]
  },
  {
   "cell_type": "code",
   "execution_count": 9,
   "metadata": {},
   "outputs": [],
   "source": [
    "# Estimate Transition function\n",
    "def transition_prob_estimator(df_train):\n",
    "    est_trans_prob = np.zeros((n_possible_state,n_possible_state))\n",
    "\n",
    "    for row in range(est_trans_prob.shape[0]): # previose state\n",
    "        for col in range(est_trans_prob.shape[1]): # future state\n",
    "            target_transition = [row,col]\n",
    "\n",
    "            # converting 2 time steps for each seq\n",
    "            for each_step in range(1,len(df_train[0])):\n",
    "                this_transition = np.array(df_train)[:,[each_step-1,each_step]].tolist()\n",
    "\n",
    "                for each_seq in this_transition:\n",
    "                    if each_seq == target_transition:\n",
    "                        est_trans_prob[row,col] += 1\n",
    "            \n",
    "            # sum up to 1\n",
    "            est_trans_prob[row,col] /= len(np.argwhere(np.array(df_train)[:,:-1] == row))\n",
    "    \n",
    "    return est_trans_prob.round(2)\n",
    "\n",
    "# predictive function\n",
    "def prediction(est_trans_prob, train_seq):\n",
    "    next_state_list = []\n",
    "    for each_seq in range(pd.DataFrame(df_train).count()[1]):\n",
    "        current_state = train_seq[each_seq][-1]\n",
    "\n",
    "        next_state = np.argmax(est_trans_prob[current_state,:])\n",
    "        next_state_list.append(next_state)\n",
    "        \n",
    "    return next_state_list"
   ]
  },
  {
   "cell_type": "code",
   "execution_count": 10,
   "metadata": {},
   "outputs": [
    {
     "name": "stdout",
     "output_type": "stream",
     "text": [
      "Transition Prob. Matrix\n",
      "     0    1    2    3    4    5\n",
      "0  0.0  0.5  0.5  0.0  0.0  0.0\n",
      "1  0.0  0.0  1.0  0.0  0.0  0.0\n",
      "2  0.0  0.0  0.0  1.0  0.0  0.0\n",
      "3  0.0  0.0  0.0  0.0  1.0  0.0\n",
      "4  0.0  0.0  0.0  0.0  0.0  1.0\n",
      "5  0.0  0.0  0.0  0.0  1.0  0.0\n",
      "%Accuracy : 100 %\n"
     ]
    }
   ],
   "source": [
    "# Train Test Split\n",
    "train_seq = np.array(df_train)[:,:-1]\n",
    "test_seq = np.array(df_train)[:,-1]\n",
    "\n",
    "# Transition Prob. Matrix Estimation\n",
    "est_trans_prob = transition_prob_estimator(df_train)\n",
    "print('Transition Prob. Matrix')\n",
    "print(pd.DataFrame(est_trans_prob))\n",
    "\n",
    "# Prediction\n",
    "pred_seq = prediction(est_trans_prob, train_seq)\n",
    "\n",
    "# Accuracy\n",
    "print('%Accuracy :',round((pred_seq == test_seq).sum()/len(test_seq)*100),'%')"
   ]
  },
  {
   "cell_type": "markdown",
   "metadata": {},
   "source": [
    "Prediction"
   ]
  },
  {
   "cell_type": "code",
   "execution_count": 11,
   "metadata": {},
   "outputs": [
    {
     "name": "stdout",
     "output_type": "stream",
     "text": [
      "%Change from Last State : 100 %\n"
     ]
    }
   ],
   "source": [
    "# Actual Data Set\n",
    "current_state = np.array(df_array)\n",
    "last_state = np.array(df_array)[:,-1]\n",
    "\n",
    "# Prediction\n",
    "future_state = prediction(est_trans_prob, current_state)\n",
    "\n",
    "# %Change\n",
    "print('%Change from Last State :',round((1-((future_state == last_state).sum()/len(last_state)))*100),'%')"
   ]
  },
  {
   "cell_type": "markdown",
   "metadata": {},
   "source": [
    "Export"
   ]
  },
  {
   "cell_type": "code",
   "execution_count": 12,
   "metadata": {},
   "outputs": [
    {
     "data": {
      "text/html": [
       "<div>\n",
       "<style scoped>\n",
       "    .dataframe tbody tr th:only-of-type {\n",
       "        vertical-align: middle;\n",
       "    }\n",
       "\n",
       "    .dataframe tbody tr th {\n",
       "        vertical-align: top;\n",
       "    }\n",
       "\n",
       "    .dataframe thead th {\n",
       "        text-align: right;\n",
       "    }\n",
       "</style>\n",
       "<table border=\"1\" class=\"dataframe\">\n",
       "  <thead>\n",
       "    <tr style=\"text-align: right;\">\n",
       "      <th></th>\n",
       "      <th>CUSTOMER_ID</th>\n",
       "      <th>SUBSCRIBER</th>\n",
       "      <th>PRODUCT</th>\n",
       "      <th>PACKAGE_01</th>\n",
       "      <th>PACKAGE_02</th>\n",
       "      <th>PACKAGE_03</th>\n",
       "      <th>PACKAGE_04</th>\n",
       "      <th>PACKAGE_05</th>\n",
       "      <th>PACKAGE_06</th>\n",
       "      <th>PRED_PACKAGE</th>\n",
       "    </tr>\n",
       "  </thead>\n",
       "  <tbody>\n",
       "    <tr>\n",
       "      <th>0</th>\n",
       "      <td>1</td>\n",
       "      <td>11</td>\n",
       "      <td>T</td>\n",
       "      <td>599</td>\n",
       "      <td>699</td>\n",
       "      <td>799</td>\n",
       "      <td>899</td>\n",
       "      <td>999</td>\n",
       "      <td>599</td>\n",
       "      <td>699</td>\n",
       "    </tr>\n",
       "    <tr>\n",
       "      <th>1</th>\n",
       "      <td>2</td>\n",
       "      <td>22</td>\n",
       "      <td>T</td>\n",
       "      <td>599</td>\n",
       "      <td>699</td>\n",
       "      <td>799</td>\n",
       "      <td>899</td>\n",
       "      <td>999</td>\n",
       "      <td>1099</td>\n",
       "      <td>999</td>\n",
       "    </tr>\n",
       "    <tr>\n",
       "      <th>2</th>\n",
       "      <td>3</td>\n",
       "      <td>33</td>\n",
       "      <td>T</td>\n",
       "      <td>599</td>\n",
       "      <td>699</td>\n",
       "      <td>799</td>\n",
       "      <td>899</td>\n",
       "      <td>999</td>\n",
       "      <td>1099</td>\n",
       "      <td>999</td>\n",
       "    </tr>\n",
       "    <tr>\n",
       "      <th>3</th>\n",
       "      <td>4</td>\n",
       "      <td>44</td>\n",
       "      <td>T</td>\n",
       "      <td>599</td>\n",
       "      <td>699</td>\n",
       "      <td>799</td>\n",
       "      <td>899</td>\n",
       "      <td>999</td>\n",
       "      <td>1099</td>\n",
       "      <td>999</td>\n",
       "    </tr>\n",
       "    <tr>\n",
       "      <th>4</th>\n",
       "      <td>5</td>\n",
       "      <td>55</td>\n",
       "      <td>T</td>\n",
       "      <td>599</td>\n",
       "      <td>699</td>\n",
       "      <td>799</td>\n",
       "      <td>899</td>\n",
       "      <td>999</td>\n",
       "      <td>1099</td>\n",
       "      <td>999</td>\n",
       "    </tr>\n",
       "    <tr>\n",
       "      <th>...</th>\n",
       "      <td>...</td>\n",
       "      <td>...</td>\n",
       "      <td>...</td>\n",
       "      <td>...</td>\n",
       "      <td>...</td>\n",
       "      <td>...</td>\n",
       "      <td>...</td>\n",
       "      <td>...</td>\n",
       "      <td>...</td>\n",
       "      <td>...</td>\n",
       "    </tr>\n",
       "    <tr>\n",
       "      <th>3945</th>\n",
       "      <td>3946</td>\n",
       "      <td>39463946</td>\n",
       "      <td>T</td>\n",
       "      <td>599</td>\n",
       "      <td>799</td>\n",
       "      <td>899</td>\n",
       "      <td>999</td>\n",
       "      <td>1099</td>\n",
       "      <td>999</td>\n",
       "      <td>1099</td>\n",
       "    </tr>\n",
       "    <tr>\n",
       "      <th>3946</th>\n",
       "      <td>3947</td>\n",
       "      <td>39473947</td>\n",
       "      <td>T</td>\n",
       "      <td>599</td>\n",
       "      <td>799</td>\n",
       "      <td>899</td>\n",
       "      <td>999</td>\n",
       "      <td>1099</td>\n",
       "      <td>999</td>\n",
       "      <td>1099</td>\n",
       "    </tr>\n",
       "    <tr>\n",
       "      <th>3947</th>\n",
       "      <td>3948</td>\n",
       "      <td>39483948</td>\n",
       "      <td>T</td>\n",
       "      <td>599</td>\n",
       "      <td>799</td>\n",
       "      <td>899</td>\n",
       "      <td>999</td>\n",
       "      <td>1099</td>\n",
       "      <td>999</td>\n",
       "      <td>1099</td>\n",
       "    </tr>\n",
       "    <tr>\n",
       "      <th>3948</th>\n",
       "      <td>3949</td>\n",
       "      <td>39493949</td>\n",
       "      <td>T</td>\n",
       "      <td>599</td>\n",
       "      <td>799</td>\n",
       "      <td>899</td>\n",
       "      <td>999</td>\n",
       "      <td>1099</td>\n",
       "      <td>999</td>\n",
       "      <td>1099</td>\n",
       "    </tr>\n",
       "    <tr>\n",
       "      <th>3949</th>\n",
       "      <td>3950</td>\n",
       "      <td>39503950</td>\n",
       "      <td>T</td>\n",
       "      <td>599</td>\n",
       "      <td>799</td>\n",
       "      <td>899</td>\n",
       "      <td>999</td>\n",
       "      <td>1099</td>\n",
       "      <td>599</td>\n",
       "      <td>699</td>\n",
       "    </tr>\n",
       "  </tbody>\n",
       "</table>\n",
       "<p>3950 rows × 10 columns</p>\n",
       "</div>"
      ],
      "text/plain": [
       "      CUSTOMER_ID  SUBSCRIBER PRODUCT  PACKAGE_01  PACKAGE_02  PACKAGE_03  \\\n",
       "0               1          11       T         599         699         799   \n",
       "1               2          22       T         599         699         799   \n",
       "2               3          33       T         599         699         799   \n",
       "3               4          44       T         599         699         799   \n",
       "4               5          55       T         599         699         799   \n",
       "...           ...         ...     ...         ...         ...         ...   \n",
       "3945         3946    39463946       T         599         799         899   \n",
       "3946         3947    39473947       T         599         799         899   \n",
       "3947         3948    39483948       T         599         799         899   \n",
       "3948         3949    39493949       T         599         799         899   \n",
       "3949         3950    39503950       T         599         799         899   \n",
       "\n",
       "      PACKAGE_04  PACKAGE_05  PACKAGE_06  PRED_PACKAGE  \n",
       "0            899         999         599           699  \n",
       "1            899         999        1099           999  \n",
       "2            899         999        1099           999  \n",
       "3            899         999        1099           999  \n",
       "4            899         999        1099           999  \n",
       "...          ...         ...         ...           ...  \n",
       "3945         999        1099         999          1099  \n",
       "3946         999        1099         999          1099  \n",
       "3947         999        1099         999          1099  \n",
       "3948         999        1099         999          1099  \n",
       "3949         999        1099         599           699  \n",
       "\n",
       "[3950 rows x 10 columns]"
      ]
     },
     "execution_count": 12,
     "metadata": {},
     "output_type": "execute_result"
    }
   ],
   "source": [
    "# Decode Future State\n",
    "decode_future_state = []\n",
    "\n",
    "for i in future_state:\n",
    "    if i == possible_state.index(possible_state[i]):\n",
    "        decode_future_state.append(possible_state[i])\n",
    "future_state_df = pd.DataFrame(decode_future_state)\n",
    "future_state_df.columns = ['PRED_PACKAGE']\n",
    "\n",
    "result = pd.concat([raw_df,future_state_df], axis=1)\n",
    "\n",
    "# Export\n",
    "export_result = result.to_csv(r'C:\\Users\\chaiyaphop.jam\\Desktop\\Result_Markov.csv')\n",
    "result"
   ]
  }
 ],
 "metadata": {
  "interpreter": {
   "hash": "344529850839cbb0f85048434875e57fdbab656742d27d932484998f6e5d573f"
  },
  "kernelspec": {
   "display_name": "Python 3.9.7 ('base')",
   "language": "python",
   "name": "python3"
  },
  "language_info": {
   "codemirror_mode": {
    "name": "ipython",
    "version": 3
   },
   "file_extension": ".py",
   "mimetype": "text/x-python",
   "name": "python",
   "nbconvert_exporter": "python",
   "pygments_lexer": "ipython3",
   "version": "3.9.7"
  },
  "orig_nbformat": 4
 },
 "nbformat": 4,
 "nbformat_minor": 2
}
