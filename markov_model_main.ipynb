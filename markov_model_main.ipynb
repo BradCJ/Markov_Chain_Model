{
 "cells": [
  {
   "cell_type": "code",
   "execution_count": null,
   "metadata": {},
   "outputs": [],
   "source": [
    "import pandas as pd\n",
    "import numpy as np\n",
    "# import matplotlib.pyplot as plt\n",
    "# import seaborn as sns"
   ]
  },
  {
   "cell_type": "markdown",
   "metadata": {},
   "source": [
    "Load Data"
   ]
  },
  {
   "cell_type": "code",
   "execution_count": null,
   "metadata": {},
   "outputs": [],
   "source": [
    "file_name = 'file_name'\n",
    "raw_df = pd.read_csv(rf'C:\\Users\\chaiyaphop.jam\\Documents\\Works\\Markov_Chains\\Data_Set\\{file_name}.csv')\n",
    "raw_df.head()"
   ]
  },
  {
   "cell_type": "markdown",
   "metadata": {},
   "source": [
    "Select Features"
   ]
  },
  {
   "cell_type": "code",
   "execution_count": null,
   "metadata": {},
   "outputs": [],
   "source": [
    "df = raw_df[['PACKAGE_01','PACKAGE_02','PACKAGE_03','PACKAGE_04','PACKAGE_05','PACKAGE_06']]\n",
    "df.describe().round(2)"
   ]
  },
  {
   "cell_type": "markdown",
   "metadata": {},
   "source": [
    "Remove Outlier"
   ]
  },
  {
   "cell_type": "code",
   "execution_count": null,
   "metadata": {},
   "outputs": [],
   "source": [
    "# outlier_p1 = df.PACKAGE_01 > df.PACKAGE_01.quantile(1)\n",
    "# outlier_p2 = df.PACKAGE_02 > df.PACKAGE_02.quantile(1)\n",
    "# outlier_p3 = df.PACKAGE_03 > df.PACKAGE_03.quantile(1)\n",
    "# outlier_p4 = df.PACKAGE_04 > df.PACKAGE_04.quantile(1)\n",
    "# outlier_p5 = df.PACKAGE_05 > df.PACKAGE_05.quantile(1)\n",
    "# outlier_p6 = df.PACKAGE_06 > df.PACKAGE_06.quantile(1)\n",
    "# outlier_p1 = df.PACKAGE_01 > df.PACKAGE_01.quantile(1)\n",
    "# outlier_p2 = df.PACKAGE_02 > df.PACKAGE_02.quantile(1)\n",
    "# outlier_p3 = df.PACKAGE_03 > df.PACKAGE_03.quantile(1)\n",
    "# outlier_p4 = df.PACKAGE_04 > df.PACKAGE_04.quantile(1)\n",
    "# outlier_p5 = df.PACKAGE_05 > df.PACKAGE_05.quantile(1)\n",
    "# outlier_p6 = df.PACKAGE_06 > df.PACKAGE_06.quantile(1)\n",
    "\n",
    "# flag_outlier = outlier_p1 | outlier_p2 | outlier_p3 | outlier_p4 | outlier_p5 | outlier_p6\n",
    "\n",
    "# df_clean = df.loc[~flag_outlier]\n",
    "# print(df_clean.describe().round(2))\n",
    "# print(df_clean.corr())"
   ]
  },
  {
   "cell_type": "markdown",
   "metadata": {},
   "source": [
    "Scatter Plot"
   ]
  },
  {
   "cell_type": "code",
   "execution_count": null,
   "metadata": {},
   "outputs": [],
   "source": [
    "# sns.pairplot(df_clean, diag_kind = 'kde')"
   ]
  },
  {
   "cell_type": "markdown",
   "metadata": {},
   "source": [
    "Sample Data"
   ]
  },
  {
   "cell_type": "code",
   "execution_count": null,
   "metadata": {},
   "outputs": [],
   "source": [
    "df_array = np.array(df)\n",
    "df_array[:5]"
   ]
  },
  {
   "cell_type": "markdown",
   "metadata": {},
   "source": [
    "Possible State and Encode Possible State"
   ]
  },
  {
   "cell_type": "code",
   "execution_count": null,
   "metadata": {},
   "outputs": [],
   "source": [
    "all_state = []\n",
    "for row in df_array:\n",
    "    for col in row:\n",
    "        all_state.append(col)\n",
    "\n",
    "possible_state = np.sort(np.unique(all_state)).tolist()\n",
    "print(f'Possible State is {possible_state}')\n",
    "\n",
    "encoded_possible_state = []\n",
    "for state in possible_state:\n",
    "    for i in range(len(possible_state)):\n",
    "        if possible_state.index(state) == i:\n",
    "            encoded_possible_state.append(i)\n",
    "print(f'Encoded Possible State is {encoded_possible_state}')\n",
    "\n",
    "n_possible_state = 0\n",
    "for i in encoded_possible_state:\n",
    "    n_possible_state += 1\n",
    "print(f'Number of Possible State is {n_possible_state}')"
   ]
  },
  {
   "cell_type": "markdown",
   "metadata": {},
   "source": [
    "Encode Features"
   ]
  },
  {
   "cell_type": "code",
   "execution_count": null,
   "metadata": {},
   "outputs": [],
   "source": [
    "for i in possible_state:\n",
    "    np.place(df_array, df_array == i, [possible_state.index(i)])\n",
    "df_train = df_array\n",
    "df_train[:5]"
   ]
  },
  {
   "cell_type": "markdown",
   "metadata": {},
   "source": [
    "Markov Chain Model"
   ]
  },
  {
   "cell_type": "code",
   "execution_count": null,
   "metadata": {},
   "outputs": [],
   "source": [
    "# Estimate Transition Prob. Matrix function\n",
    "def transition_prob_matrix(df_train):\n",
    "    est_trans_prob = np.zeros((n_possible_state,n_possible_state))\n",
    "\n",
    "    for row in range(est_trans_prob.shape[0]):\n",
    "        for col in range(est_trans_prob.shape[1]):\n",
    "            target_transition = [row,col]\n",
    "\n",
    "            for each_step in range(1,df_train.shape[1]):\n",
    "                this_transition = np.array(df_train)[:,[each_step-1,each_step]].tolist()\n",
    "\n",
    "                for each_seq in this_transition:\n",
    "                    if each_seq == target_transition:\n",
    "                        est_trans_prob[row,col] += 1\n",
    "\n",
    "            est_trans_prob[row,col] /= len(np.argwhere(np.array(df_train)[:,:-1] == row))\n",
    "    \n",
    "    return est_trans_prob.round(2)\n",
    "\n",
    "# Predictive function\n",
    "def predictor(est_trans_prob, train_seq):\n",
    "    next_state_list = []\n",
    "    for each_seq in range(pd.DataFrame(df_train).count()[1]):\n",
    "        current_state = train_seq[each_seq][-1]\n",
    "\n",
    "        next_state = np.argmax(est_trans_prob[current_state,:])\n",
    "        next_state_list.append(next_state)\n",
    "\n",
    "    return next_state_list"
   ]
  },
  {
   "cell_type": "code",
   "execution_count": null,
   "metadata": {},
   "outputs": [],
   "source": [
    "# Train Test Split\n",
    "train_seq = np.array(df_train)[:,:-1]\n",
    "test_seq = np.array(df_train)[:,-1]\n",
    "\n",
    "# Transition Prob. Matrix Estimation\n",
    "est_trans_prob = transition_prob_matrix(df_train)\n",
    "df_est_trans_prob = pd.DataFrame(est_trans_prob)\n",
    "df_est_trans_prob.index = possible_state\n",
    "df_est_trans_prob.columns = possible_state\n",
    "export_trans_prob = df_est_trans_prob.to_csv(rf'C:\\Users\\chaiyaphop.jam\\Documents\\Works\\Markov_Chains\\Result\\Trans_Prob_{file_name}.csv')\n",
    "print('Transition Prob. Matrix')\n",
    "print(df_est_trans_prob)\n",
    "\n",
    "# Prediction\n",
    "pred_seq = predictor(est_trans_prob, train_seq)\n",
    "\n",
    "# Accuracy\n",
    "print('%Accuracy :',round((pred_seq == test_seq).sum()/len(test_seq)*100),'%')"
   ]
  },
  {
   "cell_type": "markdown",
   "metadata": {},
   "source": [
    "Prediction"
   ]
  },
  {
   "cell_type": "code",
   "execution_count": null,
   "metadata": {},
   "outputs": [],
   "source": [
    "# Actual Data Set\n",
    "current_state = np.array(df_array)\n",
    "last_state = np.array(df_array)[:,-1]\n",
    "\n",
    "# Prediction\n",
    "future_state = predictor(est_trans_prob, current_state)\n",
    "\n",
    "# %Change\n",
    "print('%Change from Last State :',round((1-((future_state == last_state).sum()/len(last_state)))*100),'%')"
   ]
  },
  {
   "cell_type": "markdown",
   "metadata": {},
   "source": [
    "Export"
   ]
  },
  {
   "cell_type": "code",
   "execution_count": null,
   "metadata": {},
   "outputs": [],
   "source": [
    "# Decode Future State\n",
    "decode_future_state = []\n",
    "\n",
    "for i in future_state:\n",
    "    if i == possible_state.index(possible_state[i]):\n",
    "        decode_future_state.append(possible_state[i])\n",
    "future_state_df = pd.DataFrame(decode_future_state)\n",
    "future_state_df.columns = ['PRED_PACKAGE']\n",
    "\n",
    "result = pd.concat([raw_df,future_state_df], axis=1)\n",
    "\n",
    "# Export\n",
    "export_result = result.to_csv(rf'C:\\Users\\chaiyaphop.jam\\Documents\\Works\\Markov_Chains\\Result\\Result_Markov_{file_name}.csv')\n",
    "result"
   ]
  }
 ],
 "metadata": {
  "interpreter": {
   "hash": "344529850839cbb0f85048434875e57fdbab656742d27d932484998f6e5d573f"
  },
  "kernelspec": {
   "display_name": "Python 3.9.7 ('base')",
   "language": "python",
   "name": "python3"
  },
  "language_info": {
   "codemirror_mode": {
    "name": "ipython",
    "version": 3
   },
   "file_extension": ".py",
   "mimetype": "text/x-python",
   "name": "python",
   "nbconvert_exporter": "python",
   "pygments_lexer": "ipython3",
   "version": "3.9.7"
  },
  "orig_nbformat": 4
 },
 "nbformat": 4,
 "nbformat_minor": 2
}
